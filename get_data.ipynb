{
 "cells": [
  {
   "cell_type": "code",
   "execution_count": 1,
   "metadata": {},
   "outputs": [],
   "source": [
    "import requests\n",
    "from tqdm import tqdm\n",
    "import numpy as np\n",
    "import pandas as pd\n",
    "import os.path\n",
    "from time import sleep\n"
   ]
  },
  {
   "cell_type": "code",
   "execution_count": 11,
   "metadata": {},
   "outputs": [],
   "source": [
    "url_repo = 'https://api.github.com/repos/facebook/react/contributors?per_page=50'\n",
    "authority = ('login', 'password') # basic authentification for enlarging API limits\n",
    "r = requests.get(url_repo, auth=authority)"
   ]
  },
  {
   "cell_type": "code",
   "execution_count": 12,
   "metadata": {},
   "outputs": [],
   "source": [
    "top50contributors = defaultdict(list)\n",
    "for contributor in r.json():\n",
    "    top50contributors['login'].append(contributor['login'])\n",
    "    top50contributors['contributions'].append(contributor['contributions'])\n",
    "\n",
    "df = pd.DataFrame(top50contributors)\n",
    "df.to_csv(os.path.join(*['data','contributors_info.csv']))"
   ]
  },
  {
   "cell_type": "code",
   "execution_count": 13,
   "metadata": {
    "tags": []
   },
   "outputs": [],
   "source": [
    "def user_files_data(user_data):\n",
    "    url_template = 'https://api.github.com/repos/facebook/react/commits?per_page=100&page={page}&author={login}'\n",
    "    login, contributions = user_data\n",
    "    contributor_files = {'login':login, 'files':set()}\n",
    "    pages_count = contributions // 100 + (1 if contributions % 100 > 0 else 0)\n",
    "    for page in tqdm(range(1, pages_count + 1)):\n",
    "        url = url_template.format(login=login, page=page)\n",
    "        r = requests.get(url, auth=authority)\n",
    "        for commit in r.json():\n",
    "            try:\n",
    "                commit_url = commit['commit']['url'].replace('react/git/commits', 'react/commits')\n",
    "                commit_page = requests.get(commit_url, auth=authority)\n",
    "                files = commit_page.json()['files']\n",
    "                for file in files:\n",
    "                    contributor_files['files'].add(file['filename'])\n",
    "                top50contributors['files'].append(contributor_files)\n",
    "            except Exception:\n",
    "                return \n",
    "    txt = open(os.path.isfile(os.path.join(*['users', login + '.txt'])), 'w')\n",
    "    txt.write(contributor_files['login'] + '\\n')\n",
    "    for filename in contributor_files['files']:\n",
    "        txt.write(filename+'\\n')\n",
    "    txt.close()"
   ]
  },
  {
   "cell_type": "code",
   "execution_count": 15,
   "metadata": {
    "tags": []
   },
   "outputs": [
    {
     "output_type": "stream",
     "name": "stdout",
     "text": "Done\n"
    }
   ],
   "source": [
    "df = pd.read_csv(os.path.join(*['data','contributors_info.csv']), index_col=0)\n",
    "user_data = [tuple(x) for x in df.to_numpy()]\n",
    "num = sum([1 if os.path.isfile(os.path.join(*['users', users[0] + '.txt'])) else 0 for users in user_data])\n",
    "\n",
    "\n",
    "while num != 50:\n",
    "    print('Remaining:', 50 - num)\n",
    "    for users in user_data:\n",
    "        if os.path.isfile(os.path.join(*['users', users[0] + '.txt'])):\n",
    "            continue\n",
    "        print(users)\n",
    "        try:\n",
    "            user_files_data(users)\n",
    "        except Exception:\n",
    "            print('An error has occured while downloading: reach API limits.')\n",
    "            sleep(600)\n",
    "            break\n",
    "        num += 1\n",
    "else:\n",
    "    print('Done')"
   ]
  },
  {
   "cell_type": "code",
   "execution_count": null,
   "metadata": {},
   "outputs": [],
   "source": []
  }
 ],
 "metadata": {
  "kernelspec": {
   "display_name": "Python 3.7.7 64-bit ('tf-gpu': conda)",
   "language": "python",
   "name": "python37764bittfgpuconda738a41f1b74240dfb4dea44407f0c53a"
  },
  "language_info": {
   "codemirror_mode": {
    "name": "ipython",
    "version": 3
   },
   "file_extension": ".py",
   "mimetype": "text/x-python",
   "name": "python",
   "nbconvert_exporter": "python",
   "pygments_lexer": "ipython3",
   "version": "3.7.7-final"
  }
 },
 "nbformat": 4,
 "nbformat_minor": 2
}